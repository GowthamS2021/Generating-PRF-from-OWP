{
 "cells": [
  {
   "attachments": {},
   "cell_type": "markdown",
   "metadata": {},
   "source": [
    "Importing Libraries : \n",
    "- **random** library is used to sample random number for the key generation.\n",
    "- **Crypto.Util** is used to sample a prime number for the OWP."
   ]
  },
  {
   "cell_type": "code",
   "execution_count": 197,
   "metadata": {},
   "outputs": [],
   "source": [
    "import random\n",
    "from Crypto.Util import number\n"
   ]
  },
  {
   "attachments": {},
   "cell_type": "markdown",
   "metadata": {},
   "source": [
    "Global variables\n",
    "- *length* is the length of maximum prime that can be sampled. It can be kept small for the code to run faster. "
   ]
  },
  {
   "cell_type": "code",
   "execution_count": 268,
   "metadata": {},
   "outputs": [],
   "source": [
    "p = 0 \n",
    "length = 512\n",
    "primelength = 0 \n",
    "Key = None\n",
    "gp = None"
   ]
  },
  {
   "attachments": {},
   "cell_type": "markdown",
   "metadata": {},
   "source": [
    "# Functions\n",
    "- **start_session()** is used to sample the prime number for the OWP.\n",
    "- **generator()** is used to get the generator for the group used in OWP\n",
    "- **owp(str)** is used to send the OWP value corresponding to the input which is binary string format\n",
    "- **innerproduct(str,str)** is used to calculate the value of inner product of the 2 binary strings\n",
    "- **PRG_1(str)** is a PRG which increases the length of the output by 1 where the key is still a binary string.\n",
    "- **PRG(str)** is a PRG which doubles the length of the output by 1 where the key is a binary string.\n",
    "- **seed()** is a function which actually sets a suitable key as a binary string.\n",
    "- **prf()** is PRF constructed using OWP. "
   ]
  },
  {
   "cell_type": "code",
   "execution_count": 199,
   "metadata": {},
   "outputs": [],
   "source": [
    "def start_session():\n",
    "    global p\n",
    "    global primelength\n",
    "    while 1>0 :        \n",
    "        p = number.getPrime(length)\n",
    "        if(number.isPrime(2*p + 1,1e-10)):\n",
    "             p = 2*p + 1\n",
    "             primelength = len(bin(p)[2:])\n",
    "             return\n",
    "\n",
    "   "
   ]
  },
  {
   "cell_type": "code",
   "execution_count": 226,
   "metadata": {},
   "outputs": [],
   "source": [
    "def generator():\n",
    "    global p\n",
    "    y = p - 1\n",
    "    lstfact = []\n",
    "    z = y // 2\n",
    "    t  = (bin(z)[2:])\n",
    "    \n",
    "    generator = -1\n",
    "    for j in range(2,p):\n",
    "        \n",
    "        if not ( (((j**(2)) % p)  == 1 ) ):\n",
    "\n",
    "                lst = []\n",
    "                i = len(t) - 1\n",
    "                x = (j**(1)) % (p)\n",
    "                while(i>=0):\n",
    "                    if(t[i] == '1'):\n",
    "                        lst.append(x)\n",
    "                    x = (x*x) % (p)\n",
    "                    i-=1\n",
    "                ans = 1\n",
    "                for yu in lst:\n",
    "                    ans = (ans*(yu))%(p)\n",
    "                if(ans!=1):\n",
    "                    return j\n",
    "                    # break"
   ]
  },
  {
   "cell_type": "code",
   "execution_count": 274,
   "metadata": {},
   "outputs": [],
   "source": [
    "def owp(x):\n",
    "    global p\n",
    "    global gp\n",
    "    # t  = (bin(x)[2:])\n",
    "    lst = []\n",
    "    i = len(x) - 1\n",
    "    ans1 = (gp**(1)) % (p)\n",
    "    while(i>=0):\n",
    "        if(x[i] == '1'):\n",
    "            lst.append(ans1)\n",
    "        ans1 = (ans1*ans1) % (p)\n",
    "        i-=1\n",
    "    ans = 1\n",
    "    for yu in lst:\n",
    "        ans = (ans*(yu))%(p)\n",
    "    return ans\n",
    "    # return (gp**(int(x,2)))%p\n",
    "    "
   ]
  },
  {
   "cell_type": "code",
   "execution_count": 283,
   "metadata": {},
   "outputs": [],
   "source": [
    "def innerproduct(x,r):\n",
    "    X = x\n",
    "    R = r \n",
    "    result = None\n",
    "    # print(len(X))\n",
    "    for bit in range(len(X)):\n",
    "        if result == None:\n",
    "            result = int(X[bit])*int(R[bit])\n",
    "        else :\n",
    "            result = result ^ (int(X[bit])*int(R[bit]))\n",
    "    return result"
   ]
  },
  {
   "cell_type": "code",
   "execution_count": 284,
   "metadata": {},
   "outputs": [],
   "source": [
    "def prg_1(binKey): # str\n",
    "    # goldreich -levin thm Idea\n",
    "    # binKey = bin(key)[2:].rjust(length,'0')\n",
    "    # print(binKey)\n",
    "    # print(len(binKey))\n",
    "    assert(len(binKey)%2 == 0)\n",
    "    l = int(len(binKey)/2)\n",
    "    x = binKey[:l]\n",
    "    r = binKey[l:]\n",
    "    prstring = bin(owp(x))[2:].rjust(int(primelength),'0') + r + str(innerproduct(x,r))\n",
    "    # print(prstring)\n",
    "    # print(len(prstring))\n",
    "    assert(len(prstring) == len(binKey) + 1)\n",
    "    return prstring\n"
   ]
  },
  {
   "cell_type": "code",
   "execution_count": 285,
   "metadata": {},
   "outputs": [],
   "source": [
    "def prg(key):\n",
    "    # length doubling prg\n",
    "    prstring = ''\n",
    "    lastRStr = key # type = str\n",
    "    for num in range(len(key)):\n",
    "        binLast = prg_1(lastRStr) # type = str\n",
    "        prstring = prstring + binLast[0]\n",
    "        lastRStr = binLast[1:]\n",
    "    prstring += lastRStr\n",
    "    # print(len(key))\n",
    "    # print(len(prstring))\n",
    "    assert(len(prstring) == 2 * len(key))\n",
    "    \n",
    "    return prstring"
   ]
  },
  {
   "cell_type": "code",
   "execution_count": 286,
   "metadata": {},
   "outputs": [],
   "source": [
    "def seed():\n",
    "    global Key\n",
    "    Key = bin(random.randint(1,p-1))[2:].rjust(primelength,'0') + bin(random.randint(1,p-1))[2:].rjust(primelength,'0')"
   ]
  },
  {
   "cell_type": "code",
   "execution_count": 287,
   "metadata": {},
   "outputs": [],
   "source": [
    "def prf(x):\n",
    "    global Key\n",
    "    bin_x = bin(x)[2:].rjust(primelength,'0')\n",
    "    CurrKey = Key\n",
    "    for i in range(len(bin_x)):\n",
    "        binrandnum = prg(CurrKey)\n",
    "        if (bin_x[i] == '1'):\n",
    "            CurrKey = binrandnum[int(len(binrandnum)/2):]\n",
    "        else:\n",
    "            CurrKey = binrandnum[:int(len(binrandnum)/2)]\n",
    "    return int(CurrKey,2)\n",
    "    "
   ]
  },
  {
   "attachments": {},
   "cell_type": "markdown",
   "metadata": {},
   "source": [
    "Session starting Code: run it once to start the session. "
   ]
  },
  {
   "cell_type": "code",
   "execution_count": 288,
   "metadata": {},
   "outputs": [
    {
     "name": "stdout",
     "output_type": "stream",
     "text": [
      "2\n",
      "24341046848427499226737761932898400682402764504748808660021425001916779132520649984808564425751404823153543916952291296238946277700959052671511194174683539\n"
     ]
    }
   ],
   "source": [
    "start_session()\n",
    "\n",
    "seed()\n",
    "# print(p)\n",
    "gp = generator()\n",
    "print(gp)\n",
    "print(p)"
   ]
  },
  {
   "cell_type": "code",
   "execution_count": 290,
   "metadata": {},
   "outputs": [
    {
     "data": {
      "text/plain": [
       "315140703676162069354439937611622593853865732612813903020079066250352150622683214833940214820821338028303905895623003707495286220983854862599505559906799648312214584763729178395246681780985892294458504783928378381590134626793706919546085475606893177351679816543171203891553612105292629253507984009686376687354"
      ]
     },
     "execution_count": 290,
     "metadata": {},
     "output_type": "execute_result"
    }
   ],
   "source": [
    "prf(123467124)"
   ]
  },
  {
   "attachments": {},
   "cell_type": "markdown",
   "metadata": {},
   "source": [
    "5124 - 9 min 14.5s"
   ]
  }
 ],
 "metadata": {
  "kernelspec": {
   "display_name": "Python 3",
   "language": "python",
   "name": "python3"
  },
  "language_info": {
   "codemirror_mode": {
    "name": "ipython",
    "version": 3
   },
   "file_extension": ".py",
   "mimetype": "text/x-python",
   "name": "python",
   "nbconvert_exporter": "python",
   "pygments_lexer": "ipython3",
   "version": "3.8.10"
  },
  "orig_nbformat": 4
 },
 "nbformat": 4,
 "nbformat_minor": 2
}
