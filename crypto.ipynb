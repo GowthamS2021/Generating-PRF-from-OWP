{
 "cells": [
  {
   "attachments": {},
   "cell_type": "markdown",
   "metadata": {},
   "source": [
    "Importing Libraries : \n",
    "- **random** library is used to sample random number for the key generation.\n",
    "- **Crypto.Util** is used to sample a prime number for the OWP."
   ]
  },
  {
   "cell_type": "code",
   "execution_count": 2,
   "metadata": {},
   "outputs": [],
   "source": [
    "import random\n",
    "from Crypto.Util import number\n"
   ]
  },
  {
   "attachments": {},
   "cell_type": "markdown",
   "metadata": {},
   "source": [
    "Global variables\n",
    "- *length* is the length of maximum prime that can be sampled. It can be kept small for the code to run faster. "
   ]
  },
  {
   "cell_type": "code",
   "execution_count": 3,
   "metadata": {},
   "outputs": [],
   "source": [
    "p = 0 \n",
    "length = 8 \n",
    "Key = None\n",
    "gp = None"
   ]
  },
  {
   "attachments": {},
   "cell_type": "markdown",
   "metadata": {},
   "source": [
    "# Functions\n",
    "- **start_session()** is used to sample the prime number for the OWP.\n",
    "- **sieve(int)** is used to sieve out the primes from the other numbers.\n",
    "- **generator()** is used to get the generator for the group used in OWP\n",
    "- **owp(str)** is used to send the OWP value corresponding to the input which is binary string format\n",
    "- **innerproduct(str,str)** is used to calculate the value of inner product of the 2 binary strings\n",
    "- **PRG_1(str)** is a PRG which increases the length of the output by 1 where the key is still a binary string.\n",
    "- **PRG(str)** is a PRG which doubles the length of the output by 1 where the key is a binary string.\n",
    "- **seed()** is a function which actually sets a suitable key as a binary string.\n",
    "- **prf()** is PRF constructed using OWP. "
   ]
  },
  {
   "cell_type": "code",
   "execution_count": 4,
   "metadata": {},
   "outputs": [],
   "source": [
    "def start_session():\n",
    "    global p\n",
    "    p = number.getPrime(length)"
   ]
  },
  {
   "cell_type": "code",
   "execution_count": 5,
   "metadata": {},
   "outputs": [],
   "source": [
    "def sieve(n):\n",
    "    k = 2\n",
    "    while(k*k <= n):\n",
    "        if lst[k] == True : \n",
    "            x = k*k\n",
    "            while x<=n :\n",
    "                lst[x] = False\n",
    "                x+=k\n",
    "        k+=1\n",
    "\n",
    "n = 10000000\n",
    "lst = []\n",
    "for i in range(0,n+1) :\n",
    "    lst.append( True)\n",
    "lst2 = []\n",
    "sieve(n)\n",
    "for i in range(2,n+1):\n",
    "    if lst[i] == True:\n",
    "        lst2.append(i)"
   ]
  },
  {
   "cell_type": "code",
   "execution_count": 6,
   "metadata": {},
   "outputs": [],
   "source": [
    "def generator():\n",
    "    global p\n",
    "    y = p - 1\n",
    "    lstfact = []\n",
    "    for i in range(0,len(lst2)):\n",
    "        if (p - 1) < lst2[i]:\n",
    "            break\n",
    "        if (p - 1)%lst2[i] == 0:\n",
    "            lstfact.append(lst2[i])\n",
    "    generator = -1\n",
    "    for j in range(2,p):\n",
    "        a = False\n",
    "        for i in lstfact:\n",
    "            if ((( j**(((p-1)//i))) % p) == 1):\n",
    "                a = True\n",
    "                break\n",
    "        if not a:\n",
    "            return j"
   ]
  },
  {
   "cell_type": "code",
   "execution_count": 7,
   "metadata": {},
   "outputs": [],
   "source": [
    "def owp(x):\n",
    "    global p\n",
    "    global gp\n",
    "    return (gp**(int(x,2)))%p\n",
    "    "
   ]
  },
  {
   "cell_type": "code",
   "execution_count": 8,
   "metadata": {},
   "outputs": [],
   "source": [
    "def innerproduct(x,r):\n",
    "    X = x\n",
    "    R = r \n",
    "    result = None\n",
    "    for bit in range(len(X)):\n",
    "        if result == None:\n",
    "            result = int(X[bit])*int(R[bit])\n",
    "        else :\n",
    "            result = result ^ (int(X[bit])*int(R[bit]))\n",
    "    return result"
   ]
  },
  {
   "cell_type": "code",
   "execution_count": 9,
   "metadata": {},
   "outputs": [],
   "source": [
    "def prg_1(binKey): # str\n",
    "    # goldreich -levin thm Idea\n",
    "    # binKey = bin(key)[2:].rjust(length,'0')\n",
    "    # print(binKey)\n",
    "    # print(len(binKey))\n",
    "    assert(len(binKey)%2 == 0)\n",
    "    l = int(len(binKey)/2)\n",
    "    x = binKey[:l]\n",
    "    r = binKey[l:]\n",
    "    prstring = bin(owp(x))[2:].rjust(int(length),'0') + r + str(innerproduct(x,r))\n",
    "    # print(prstring)\n",
    "    # print(len(prstring))\n",
    "    assert(len(prstring) == len(binKey) + 1)\n",
    "    return prstring\n"
   ]
  },
  {
   "cell_type": "code",
   "execution_count": 10,
   "metadata": {},
   "outputs": [],
   "source": [
    "def prg(key):\n",
    "    # length doubling prg\n",
    "    prstring = ''\n",
    "    lastRStr = key # type = str\n",
    "    for num in range(len(key)):\n",
    "        binLast = prg_1(lastRStr) # type = str\n",
    "        prstring = prstring + binLast[0]\n",
    "        lastRStr = binLast[1:]\n",
    "    prstring += lastRStr\n",
    "    # print(len(key))\n",
    "    # print(len(prstring))\n",
    "    assert(len(prstring) == 2 * len(key))\n",
    "    \n",
    "    return prstring"
   ]
  },
  {
   "cell_type": "code",
   "execution_count": 16,
   "metadata": {},
   "outputs": [],
   "source": [
    "def seed():\n",
    "    global Key\n",
    "    Key = bin(random.randint(1,p-1))[2:].rjust(length,'0') + bin(random.randint(1,p-1))[2:].rjust(length,'0')"
   ]
  },
  {
   "cell_type": "code",
   "execution_count": 17,
   "metadata": {},
   "outputs": [],
   "source": [
    "def prf(x):\n",
    "    global Key\n",
    "    bin_x = bin(x)[2:].rjust(length,'0')\n",
    "    CurrKey = Key\n",
    "    for i in range(len(bin_x)):\n",
    "        binrandnum = prg(CurrKey)\n",
    "        if (bin_x[i] == '1'):\n",
    "            CurrKey = binrandnum[int(len(binrandnum)/2):]\n",
    "        else:\n",
    "            CurrKey = binrandnum[:int(len(binrandnum)/2)]\n",
    "    return int(CurrKey,2)\n",
    "    "
   ]
  },
  {
   "attachments": {},
   "cell_type": "markdown",
   "metadata": {},
   "source": [
    "Session starting Code: run it once to start the session. "
   ]
  },
  {
   "cell_type": "code",
   "execution_count": 18,
   "metadata": {},
   "outputs": [],
   "source": [
    "start_session()\n",
    "seed()\n",
    "gp = generator()"
   ]
  },
  {
   "cell_type": "code",
   "execution_count": 20,
   "metadata": {},
   "outputs": [
    {
     "data": {
      "text/plain": [
       "10326"
      ]
     },
     "execution_count": 20,
     "metadata": {},
     "output_type": "execute_result"
    }
   ],
   "source": [
    "prf(260)"
   ]
  }
 ],
 "metadata": {
  "kernelspec": {
   "display_name": "Python 3",
   "language": "python",
   "name": "python3"
  },
  "language_info": {
   "codemirror_mode": {
    "name": "ipython",
    "version": 3
   },
   "file_extension": ".py",
   "mimetype": "text/x-python",
   "name": "python",
   "nbconvert_exporter": "python",
   "pygments_lexer": "ipython3",
   "version": "3.8.10"
  },
  "orig_nbformat": 4
 },
 "nbformat": 4,
 "nbformat_minor": 2
}
